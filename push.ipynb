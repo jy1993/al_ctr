{
 "cells": [
  {
   "cell_type": "code",
   "execution_count": 2,
   "metadata": {
    "collapsed": true
   },
   "outputs": [
    {
     "name": "stdout",
     "output_type": "stream",
     "text": [
      "al_ctr\n",
      "awesome-computer-vision\n",
      "awesome-datascience\n",
      "awesome-deep-learning\n",
      "awesome-machine-learning\n",
      "awesome-machine-learning-on-source-code\n",
      "awesome-nlp\n",
      "awesome-tensorflow\n",
      "catboost\n",
      "Click-Through-Prediction\n",
      "CSH\n",
      "deep-ctr\n",
      "DeepLearningFlappyBird\n",
      "handson-ml\n",
      "hypertools-paper-notebooks\n",
      "kaggle_pipeline\n",
      "neural-storyteller\n",
      "nmt\n",
      "pretrained\n",
      "StackNet\n",
      "tensorflow_poems\n",
      "text_classification\n",
      "toxic_comments\n"
     ]
    }
   ],
   "source": [
    "from github import Github\n",
    "\n",
    "g = Github('jy1993', 'my123github')\n",
    "for repo in g.get_user().get_repos():\n",
    "    print(repo.name)"
   ]
  },
  {
   "cell_type": "code",
   "execution_count": 9,
   "metadata": {
    "collapsed": false
   },
   "outputs": [
    {
     "data": {
      "text/plain": [
       "<github.MainClass.Github at 0x5584a20>"
      ]
     },
     "execution_count": 9,
     "metadata": {},
     "output_type": "execute_result"
    }
   ],
   "source": []
  },
  {
   "cell_type": "code",
   "execution_count": null,
   "metadata": {
    "collapsed": true
   },
   "outputs": [],
   "source": []
  }
 ],
 "metadata": {
  "kernelspec": {
   "display_name": "Python 3",
   "language": "python",
   "name": "python3"
  },
  "language_info": {
   "codemirror_mode": {
    "name": "ipython",
    "version": 3
   },
   "file_extension": ".py",
   "mimetype": "text/x-python",
   "name": "python",
   "nbconvert_exporter": "python",
   "pygments_lexer": "ipython3",
   "version": "3.6.2"
  }
 },
 "nbformat": 4,
 "nbformat_minor": 2
}
