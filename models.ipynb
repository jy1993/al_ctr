{
 "cells": [
  {
   "cell_type": "code",
   "execution_count": 2,
   "metadata": {
    "collapsed": true
   },
   "outputs": [],
   "source": [
    "import pandas as pd\n",
    "from sklearn.ensemble import RandomForestClassifier"
   ]
  },
  {
   "cell_type": "code",
   "execution_count": 5,
   "metadata": {
    "collapsed": true
   },
   "outputs": [],
   "source": [
    "train = pd.read_csv('../data/train.csv')\n",
    "val = pd.read_csv('../data/val.csv')"
   ]
  },
  {
   "cell_type": "code",
   "execution_count": 7,
   "metadata": {
    "collapsed": false
   },
   "outputs": [],
   "source": [
    "cols = ['item_price_level', 'item_sales_level', 'item_collected_level']\n",
    "X_train, y_train = train.loc[:, cols], train['is_trade']\n",
    "X_val, y_val = val.loc[:, cols], val['is_trade']"
   ]
  },
  {
   "cell_type": "code",
   "execution_count": 9,
   "metadata": {
    "collapsed": false
   },
   "outputs": [
    {
     "data": {
      "text/plain": [
       "RandomForestClassifier(bootstrap=True, class_weight=None, criterion='gini',\n",
       "            max_depth=None, max_features='auto', max_leaf_nodes=None,\n",
       "            min_impurity_decrease=0.0, min_impurity_split=None,\n",
       "            min_samples_leaf=1, min_samples_split=2,\n",
       "            min_weight_fraction_leaf=0.0, n_estimators=100, n_jobs=1,\n",
       "            oob_score=True, random_state=42, verbose=0, warm_start=False)"
      ]
     },
     "execution_count": 9,
     "metadata": {},
     "output_type": "execute_result"
    }
   ],
   "source": [
    "rf = RandomForestClassifier(n_estimators=100, oob_score=True, random_state=42)\n",
    "rf.fit(X_train, y_train)"
   ]
  },
  {
   "cell_type": "code",
   "execution_count": 22,
   "metadata": {
    "collapsed": false
   },
   "outputs": [
    {
     "name": "stdout",
     "output_type": "stream",
     "text": [
      "0.6344680621335345\n",
      "0.09001688105108706\n",
      "[0.38821744 0.3482432  0.26353936]\n"
     ]
    }
   ],
   "source": [
    "from sklearn.metrics import roc_auc_score, log_loss\n",
    "y_pred = rf.predict_proba(X_val)[:, 1]\n",
    "print(roc_auc_score(y_val, y_pred))\n",
    "print(log_loss(y_val, y_pred))\n",
    "print(rf.feature_importances_)"
   ]
  },
  {
   "cell_type": "code",
   "execution_count": 30,
   "metadata": {
    "collapsed": false
   },
   "outputs": [
    {
     "name": "stdout",
     "output_type": "stream",
     "text": [
      "['item_brand_id', 'item_city_id', 'item_price_level', 'item_sales_level', 'item_collected_level', 'item_pv_level', 'user_gender_id', 'user_age_level', 'user_occupation_id', 'user_star_level', 'context_page_id', 'shop_review_num_level', 'shop_review_positive_rate', 'shop_star_level', 'shop_score_service', 'shop_score_delivery', 'shop_score_description']\n"
     ]
    }
   ],
   "source": [
    "import lightgbm as lgb\n",
    "to_remove = ['instance_id', 'item_id', 'item_category_list', 'item_property_list', \n",
    "             'user_id', 'context_id', 'context_timestamp', 'predict_category_property', 'shop_id', 'is_trade']\n",
    "cols = [col for col in train.columns if col not in to_remove]\n",
    "print(cols)"
   ]
  },
  {
   "cell_type": "code",
   "execution_count": 56,
   "metadata": {
    "collapsed": false
   },
   "outputs": [
    {
     "name": "stdout",
     "output_type": "stream",
     "text": [
      "(420693, 17)\n",
      "(57418, 17)\n"
     ]
    }
   ],
   "source": [
    "X_train = train.loc[:, cols]\n",
    "X_val = val.loc[:, cols]\n",
    "y_train = train['is_trade']\n",
    "y_val = val['is_trade']\n",
    "train_dst = lgb.Dataset(X_train, y_train)\n",
    "val_dst = lgb.Dataset(X_val, y_val)\n",
    "print(X_train.shape)\n",
    "print(X_val.shape)"
   ]
  },
  {
   "cell_type": "code",
   "execution_count": 57,
   "metadata": {
    "collapsed": true
   },
   "outputs": [
    {
     "name": "stdout",
     "output_type": "stream",
     "text": [
      "['item_price_level', 'item_sales_level', 'item_collected_level', 'item_pv_level', 'user_age_level', 'user_star_level', 'shop_review_num_level', 'shop_star_level']\n",
      "item_brand_id category\n",
      "item_city_id category\n",
      "item_price_level category\n",
      "item_sales_level category\n",
      "item_collected_level category\n",
      "item_pv_level category\n",
      "user_gender_id category\n",
      "user_age_level category\n",
      "user_occupation_id category\n",
      "user_star_level category\n",
      "context_page_id category\n",
      "shop_review_num_level category\n",
      "shop_review_positive_rate float64\n",
      "shop_star_level category\n",
      "shop_score_service float64\n",
      "shop_score_delivery float64\n",
      "shop_score_description float64\n"
     ]
    }
   ],
   "source": [
    "ordered_cat = [col for col in cols if 'level' in col]\n",
    "unordered_cat = [col for col in cols if 'id' in col]\n",
    "print(ordered_cat)\n",
    "for col in X_train:\n",
    "    if col in ordered_cat:\n",
    "        X_train[col] = X_train[col].astype('category', ordered=True)\n",
    "        X_val[col] = X_val[col].astype('category', ordered=True)\n",
    "    elif col in unordered_cat:\n",
    "        X_train[col] = X_train[col].astype('category')\n",
    "        X_val[col] = X_val[col].astype('category')\n",
    "\n",
    "for col in X_train:\n",
    "    print(col, X_train[col].dtype)"
   ]
  },
  {
   "cell_type": "code",
   "execution_count": 68,
   "metadata": {
    "collapsed": true
   },
   "outputs": [
    {
     "name": "stdout",
     "output_type": "stream",
     "text": [
      "[1]\ttraining's auc: 0.606001\ttraining's binary_logloss: 0.674825\tvalid_0's auc: 0.576595\tvalid_0's binary_logloss: 0.674723\n",
      "Training until validation scores don't improve for 10 rounds.\n",
      "[2]\ttraining's auc: 0.606001\ttraining's binary_logloss: 0.657221\tvalid_0's auc: 0.576595\tvalid_0's binary_logloss: 0.657021\n",
      "[3]\ttraining's auc: 0.610872\ttraining's binary_logloss: 0.640295\tvalid_0's auc: 0.583148\tvalid_0's binary_logloss: 0.639989\n",
      "[4]\ttraining's auc: 0.610682\ttraining's binary_logloss: 0.624011\tvalid_0's auc: 0.582856\tvalid_0's binary_logloss: 0.623602\n",
      "[5]\ttraining's auc: 0.616523\ttraining's binary_logloss: 0.608333\tvalid_0's auc: 0.587551\tvalid_0's binary_logloss: 0.607835\n",
      "[6]\ttraining's auc: 0.620612\ttraining's binary_logloss: 0.593229\tvalid_0's auc: 0.589766\tvalid_0's binary_logloss: 0.592628\n",
      "[7]\ttraining's auc: 0.621719\ttraining's binary_logloss: 0.578671\tvalid_0's auc: 0.590657\tvalid_0's binary_logloss: 0.577979\n",
      "[8]\ttraining's auc: 0.621756\ttraining's binary_logloss: 0.56463\tvalid_0's auc: 0.590551\tvalid_0's binary_logloss: 0.563852\n",
      "[9]\ttraining's auc: 0.621796\ttraining's binary_logloss: 0.551082\tvalid_0's auc: 0.590637\tvalid_0's binary_logloss: 0.550224\n",
      "[10]\ttraining's auc: 0.621402\ttraining's binary_logloss: 0.538004\tvalid_0's auc: 0.590592\tvalid_0's binary_logloss: 0.537066\n",
      "[11]\ttraining's auc: 0.623355\ttraining's binary_logloss: 0.525367\tvalid_0's auc: 0.590139\tvalid_0's binary_logloss: 0.524348\n",
      "[12]\ttraining's auc: 0.625423\ttraining's binary_logloss: 0.513157\tvalid_0's auc: 0.592193\tvalid_0's binary_logloss: 0.51206\n",
      "[13]\ttraining's auc: 0.626132\ttraining's binary_logloss: 0.501355\tvalid_0's auc: 0.591343\tvalid_0's binary_logloss: 0.500179\n",
      "[14]\ttraining's auc: 0.626507\ttraining's binary_logloss: 0.48994\tvalid_0's auc: 0.591064\tvalid_0's binary_logloss: 0.488686\n",
      "[15]\ttraining's auc: 0.627014\ttraining's binary_logloss: 0.478898\tvalid_0's auc: 0.590728\tvalid_0's binary_logloss: 0.477569\n",
      "[16]\ttraining's auc: 0.628085\ttraining's binary_logloss: 0.468214\tvalid_0's auc: 0.591757\tvalid_0's binary_logloss: 0.46682\n",
      "[17]\ttraining's auc: 0.629099\ttraining's binary_logloss: 0.457871\tvalid_0's auc: 0.592093\tvalid_0's binary_logloss: 0.456411\n",
      "[18]\ttraining's auc: 0.629672\ttraining's binary_logloss: 0.447854\tvalid_0's auc: 0.59256\tvalid_0's binary_logloss: 0.446331\n",
      "[19]\ttraining's auc: 0.630113\ttraining's binary_logloss: 0.43815\tvalid_0's auc: 0.59234\tvalid_0's binary_logloss: 0.436565\n",
      "[20]\ttraining's auc: 0.630214\ttraining's binary_logloss: 0.428746\tvalid_0's auc: 0.592362\tvalid_0's binary_logloss: 0.4271\n",
      "[21]\ttraining's auc: 0.630494\ttraining's binary_logloss: 0.41963\tvalid_0's auc: 0.592402\tvalid_0's binary_logloss: 0.417912\n",
      "[22]\ttraining's auc: 0.630647\ttraining's binary_logloss: 0.410792\tvalid_0's auc: 0.592541\tvalid_0's binary_logloss: 0.409002\n",
      "[23]\ttraining's auc: 0.630825\ttraining's binary_logloss: 0.402219\tvalid_0's auc: 0.59287\tvalid_0's binary_logloss: 0.400365\n",
      "[24]\ttraining's auc: 0.630899\ttraining's binary_logloss: 0.393904\tvalid_0's auc: 0.59268\tvalid_0's binary_logloss: 0.39198\n",
      "[25]\ttraining's auc: 0.630929\ttraining's binary_logloss: 0.385834\tvalid_0's auc: 0.593385\tvalid_0's binary_logloss: 0.383853\n",
      "[26]\ttraining's auc: 0.63379\ttraining's binary_logloss: 0.377999\tvalid_0's auc: 0.596378\tvalid_0's binary_logloss: 0.375958\n",
      "[27]\ttraining's auc: 0.63537\ttraining's binary_logloss: 0.370392\tvalid_0's auc: 0.598862\tvalid_0's binary_logloss: 0.368292\n",
      "[28]\ttraining's auc: 0.63659\ttraining's binary_logloss: 0.363007\tvalid_0's auc: 0.600524\tvalid_0's binary_logloss: 0.360848\n",
      "[29]\ttraining's auc: 0.638043\ttraining's binary_logloss: 0.355834\tvalid_0's auc: 0.60278\tvalid_0's binary_logloss: 0.353619\n",
      "[30]\ttraining's auc: 0.639359\ttraining's binary_logloss: 0.348866\tvalid_0's auc: 0.604548\tvalid_0's binary_logloss: 0.346597\n",
      "[31]\ttraining's auc: 0.641777\ttraining's binary_logloss: 0.342095\tvalid_0's auc: 0.606351\tvalid_0's binary_logloss: 0.339767\n",
      "[32]\ttraining's auc: 0.643315\ttraining's binary_logloss: 0.335514\tvalid_0's auc: 0.607803\tvalid_0's binary_logloss: 0.33313\n",
      "[33]\ttraining's auc: 0.644448\ttraining's binary_logloss: 0.329119\tvalid_0's auc: 0.608237\tvalid_0's binary_logloss: 0.326679\n",
      "[34]\ttraining's auc: 0.64546\ttraining's binary_logloss: 0.322903\tvalid_0's auc: 0.608635\tvalid_0's binary_logloss: 0.320408\n",
      "[35]\ttraining's auc: 0.645925\ttraining's binary_logloss: 0.316859\tvalid_0's auc: 0.60904\tvalid_0's binary_logloss: 0.31431\n",
      "[36]\ttraining's auc: 0.646307\ttraining's binary_logloss: 0.310984\tvalid_0's auc: 0.609493\tvalid_0's binary_logloss: 0.30838\n",
      "[37]\ttraining's auc: 0.647084\ttraining's binary_logloss: 0.30527\tvalid_0's auc: 0.610852\tvalid_0's binary_logloss: 0.302614\n",
      "[38]\ttraining's auc: 0.646918\ttraining's binary_logloss: 0.299716\tvalid_0's auc: 0.610437\tvalid_0's binary_logloss: 0.297003\n",
      "[39]\ttraining's auc: 0.64722\ttraining's binary_logloss: 0.29431\tvalid_0's auc: 0.610823\tvalid_0's binary_logloss: 0.291541\n",
      "[40]\ttraining's auc: 0.647574\ttraining's binary_logloss: 0.28905\tvalid_0's auc: 0.611318\tvalid_0's binary_logloss: 0.286229\n",
      "[41]\ttraining's auc: 0.648054\ttraining's binary_logloss: 0.283935\tvalid_0's auc: 0.611878\tvalid_0's binary_logloss: 0.281064\n",
      "[42]\ttraining's auc: 0.648303\ttraining's binary_logloss: 0.278956\tvalid_0's auc: 0.612429\tvalid_0's binary_logloss: 0.276036\n",
      "[43]\ttraining's auc: 0.648666\ttraining's binary_logloss: 0.27411\tvalid_0's auc: 0.613129\tvalid_0's binary_logloss: 0.271143\n",
      "[44]\ttraining's auc: 0.648838\ttraining's binary_logloss: 0.269393\tvalid_0's auc: 0.613847\tvalid_0's binary_logloss: 0.266379\n",
      "[45]\ttraining's auc: 0.649117\ttraining's binary_logloss: 0.264802\tvalid_0's auc: 0.614285\tvalid_0's binary_logloss: 0.261737\n",
      "[46]\ttraining's auc: 0.649661\ttraining's binary_logloss: 0.260329\tvalid_0's auc: 0.615478\tvalid_0's binary_logloss: 0.257213\n",
      "[47]\ttraining's auc: 0.650168\ttraining's binary_logloss: 0.255973\tvalid_0's auc: 0.616689\tvalid_0's binary_logloss: 0.252807\n",
      "[48]\ttraining's auc: 0.650458\ttraining's binary_logloss: 0.251732\tvalid_0's auc: 0.617389\tvalid_0's binary_logloss: 0.248516\n",
      "[49]\ttraining's auc: 0.650948\ttraining's binary_logloss: 0.247604\tvalid_0's auc: 0.617735\tvalid_0's binary_logloss: 0.244338\n",
      "[50]\ttraining's auc: 0.651339\ttraining's binary_logloss: 0.243582\tvalid_0's auc: 0.618769\tvalid_0's binary_logloss: 0.24027\n",
      "[51]\ttraining's auc: 0.651551\ttraining's binary_logloss: 0.239668\tvalid_0's auc: 0.618689\tvalid_0's binary_logloss: 0.236313\n",
      "[52]\ttraining's auc: 0.651717\ttraining's binary_logloss: 0.235856\tvalid_0's auc: 0.618738\tvalid_0's binary_logloss: 0.232458\n",
      "[53]\ttraining's auc: 0.651764\ttraining's binary_logloss: 0.232142\tvalid_0's auc: 0.61876\tvalid_0's binary_logloss: 0.2287\n",
      "[54]\ttraining's auc: 0.651957\ttraining's binary_logloss: 0.228524\tvalid_0's auc: 0.618874\tvalid_0's binary_logloss: 0.225041\n",
      "[55]\ttraining's auc: 0.65206\ttraining's binary_logloss: 0.224999\tvalid_0's auc: 0.618997\tvalid_0's binary_logloss: 0.221472\n",
      "[56]\ttraining's auc: 0.652573\ttraining's binary_logloss: 0.221567\tvalid_0's auc: 0.618776\tvalid_0's binary_logloss: 0.217997\n",
      "[57]\ttraining's auc: 0.652717\ttraining's binary_logloss: 0.21822\tvalid_0's auc: 0.619232\tvalid_0's binary_logloss: 0.214606\n",
      "[58]\ttraining's auc: 0.65294\ttraining's binary_logloss: 0.214959\tvalid_0's auc: 0.61991\tvalid_0's binary_logloss: 0.211301\n",
      "[59]\ttraining's auc: 0.653122\ttraining's binary_logloss: 0.211781\tvalid_0's auc: 0.620349\tvalid_0's binary_logloss: 0.208079\n",
      "[60]\ttraining's auc: 0.653195\ttraining's binary_logloss: 0.208683\tvalid_0's auc: 0.620845\tvalid_0's binary_logloss: 0.204939\n",
      "[61]\ttraining's auc: 0.653282\ttraining's binary_logloss: 0.205664\tvalid_0's auc: 0.621051\tvalid_0's binary_logloss: 0.201876\n",
      "[62]\ttraining's auc: 0.65327\ttraining's binary_logloss: 0.202721\tvalid_0's auc: 0.621001\tvalid_0's binary_logloss: 0.198888\n",
      "[63]\ttraining's auc: 0.653329\ttraining's binary_logloss: 0.199854\tvalid_0's auc: 0.620836\tvalid_0's binary_logloss: 0.195978\n",
      "[64]\ttraining's auc: 0.653618\ttraining's binary_logloss: 0.197062\tvalid_0's auc: 0.620702\tvalid_0's binary_logloss: 0.193141\n",
      "[65]\ttraining's auc: 0.653701\ttraining's binary_logloss: 0.194338\tvalid_0's auc: 0.620528\tvalid_0's binary_logloss: 0.190374\n",
      "[66]\ttraining's auc: 0.653921\ttraining's binary_logloss: 0.191677\tvalid_0's auc: 0.620835\tvalid_0's binary_logloss: 0.187674\n",
      "[67]\ttraining's auc: 0.654132\ttraining's binary_logloss: 0.189082\tvalid_0's auc: 0.621366\tvalid_0's binary_logloss: 0.185036\n",
      "[68]\ttraining's auc: 0.654187\ttraining's binary_logloss: 0.186554\tvalid_0's auc: 0.62177\tvalid_0's binary_logloss: 0.182467\n",
      "[69]\ttraining's auc: 0.654138\ttraining's binary_logloss: 0.184089\tvalid_0's auc: 0.621709\tvalid_0's binary_logloss: 0.179961\n",
      "[70]\ttraining's auc: 0.654294\ttraining's binary_logloss: 0.181684\tvalid_0's auc: 0.622392\tvalid_0's binary_logloss: 0.177516\n",
      "[71]\ttraining's auc: 0.654517\ttraining's binary_logloss: 0.179346\tvalid_0's auc: 0.622501\tvalid_0's binary_logloss: 0.175141\n",
      "[72]\ttraining's auc: 0.654649\ttraining's binary_logloss: 0.177067\tvalid_0's auc: 0.62262\tvalid_0's binary_logloss: 0.172824\n",
      "[73]\ttraining's auc: 0.65517\ttraining's binary_logloss: 0.174844\tvalid_0's auc: 0.622574\tvalid_0's binary_logloss: 0.170568\n",
      "[74]\ttraining's auc: 0.655171\ttraining's binary_logloss: 0.172676\tvalid_0's auc: 0.622867\tvalid_0's binary_logloss: 0.168365\n",
      "[75]\ttraining's auc: 0.655092\ttraining's binary_logloss: 0.170562\tvalid_0's auc: 0.623126\tvalid_0's binary_logloss: 0.16621\n",
      "[76]\ttraining's auc: 0.655499\ttraining's binary_logloss: 0.168498\tvalid_0's auc: 0.62385\tvalid_0's binary_logloss: 0.164105\n",
      "[77]\ttraining's auc: 0.655827\ttraining's binary_logloss: 0.166486\tvalid_0's auc: 0.624078\tvalid_0's binary_logloss: 0.162058\n",
      "[78]\ttraining's auc: 0.655743\ttraining's binary_logloss: 0.164524\tvalid_0's auc: 0.623905\tvalid_0's binary_logloss: 0.16006\n",
      "[79]\ttraining's auc: 0.655643\ttraining's binary_logloss: 0.162612\tvalid_0's auc: 0.62387\tvalid_0's binary_logloss: 0.158111\n",
      "[80]\ttraining's auc: 0.656274\ttraining's binary_logloss: 0.160745\tvalid_0's auc: 0.624139\tvalid_0's binary_logloss: 0.156208\n",
      "[81]\ttraining's auc: 0.65657\ttraining's binary_logloss: 0.158927\tvalid_0's auc: 0.624372\tvalid_0's binary_logloss: 0.154353\n",
      "[82]\ttraining's auc: 0.656901\ttraining's binary_logloss: 0.157154\tvalid_0's auc: 0.624682\tvalid_0's binary_logloss: 0.152543\n",
      "[83]\ttraining's auc: 0.65686\ttraining's binary_logloss: 0.155431\tvalid_0's auc: 0.624633\tvalid_0's binary_logloss: 0.150785\n",
      "[84]\ttraining's auc: 0.65749\ttraining's binary_logloss: 0.153746\tvalid_0's auc: 0.625792\tvalid_0's binary_logloss: 0.149062\n",
      "[85]\ttraining's auc: 0.657791\ttraining's binary_logloss: 0.152103\tvalid_0's auc: 0.626106\tvalid_0's binary_logloss: 0.147384\n",
      "[86]\ttraining's auc: 0.65788\ttraining's binary_logloss: 0.1505\tvalid_0's auc: 0.62635\tvalid_0's binary_logloss: 0.145745\n",
      "[87]\ttraining's auc: 0.658295\ttraining's binary_logloss: 0.148937\tvalid_0's auc: 0.626549\tvalid_0's binary_logloss: 0.144148\n",
      "[88]\ttraining's auc: 0.658698\ttraining's binary_logloss: 0.147412\tvalid_0's auc: 0.626501\tvalid_0's binary_logloss: 0.142593\n",
      "[89]\ttraining's auc: 0.658896\ttraining's binary_logloss: 0.145925\tvalid_0's auc: 0.626827\tvalid_0's binary_logloss: 0.141072\n",
      "[90]\ttraining's auc: 0.660399\ttraining's binary_logloss: 0.144473\tvalid_0's auc: 0.627628\tvalid_0's binary_logloss: 0.139591\n",
      "[91]\ttraining's auc: 0.660913\ttraining's binary_logloss: 0.143057\tvalid_0's auc: 0.628026\tvalid_0's binary_logloss: 0.138142\n",
      "[92]\ttraining's auc: 0.661343\ttraining's binary_logloss: 0.141676\tvalid_0's auc: 0.628347\tvalid_0's binary_logloss: 0.13673\n",
      "[93]\ttraining's auc: 0.661717\ttraining's binary_logloss: 0.14033\tvalid_0's auc: 0.628953\tvalid_0's binary_logloss: 0.13535\n",
      "[94]\ttraining's auc: 0.661994\ttraining's binary_logloss: 0.139017\tvalid_0's auc: 0.629466\tvalid_0's binary_logloss: 0.134005\n",
      "[95]\ttraining's auc: 0.662251\ttraining's binary_logloss: 0.137736\tvalid_0's auc: 0.629735\tvalid_0's binary_logloss: 0.132692\n",
      "[96]\ttraining's auc: 0.663076\ttraining's binary_logloss: 0.136488\tvalid_0's auc: 0.630061\tvalid_0's binary_logloss: 0.131418\n",
      "[97]\ttraining's auc: 0.663791\ttraining's binary_logloss: 0.13527\tvalid_0's auc: 0.630671\tvalid_0's binary_logloss: 0.130167\n",
      "[98]\ttraining's auc: 0.664347\ttraining's binary_logloss: 0.134083\tvalid_0's auc: 0.631213\tvalid_0's binary_logloss: 0.128947\n",
      "[99]\ttraining's auc: 0.665031\ttraining's binary_logloss: 0.132925\tvalid_0's auc: 0.631349\tvalid_0's binary_logloss: 0.127766\n",
      "[100]\ttraining's auc: 0.665723\ttraining's binary_logloss: 0.131795\tvalid_0's auc: 0.631686\tvalid_0's binary_logloss: 0.126612\n",
      "[101]\ttraining's auc: 0.666014\ttraining's binary_logloss: 0.130697\tvalid_0's auc: 0.632054\tvalid_0's binary_logloss: 0.125486\n",
      "[102]\ttraining's auc: 0.666445\ttraining's binary_logloss: 0.129625\tvalid_0's auc: 0.63228\tvalid_0's binary_logloss: 0.12439\n",
      "[103]\ttraining's auc: 0.666817\ttraining's binary_logloss: 0.12858\tvalid_0's auc: 0.632464\tvalid_0's binary_logloss: 0.123322\n",
      "[104]\ttraining's auc: 0.666959\ttraining's binary_logloss: 0.127561\tvalid_0's auc: 0.632461\tvalid_0's binary_logloss: 0.12228\n",
      "[105]\ttraining's auc: 0.667184\ttraining's binary_logloss: 0.126568\tvalid_0's auc: 0.63264\tvalid_0's binary_logloss: 0.121263\n",
      "[106]\ttraining's auc: 0.668113\ttraining's binary_logloss: 0.125597\tvalid_0's auc: 0.633358\tvalid_0's binary_logloss: 0.120269\n",
      "[107]\ttraining's auc: 0.669062\ttraining's binary_logloss: 0.124649\tvalid_0's auc: 0.634508\tvalid_0's binary_logloss: 0.119296\n",
      "[108]\ttraining's auc: 0.669374\ttraining's binary_logloss: 0.123727\tvalid_0's auc: 0.634773\tvalid_0's binary_logloss: 0.118348\n",
      "[109]\ttraining's auc: 0.66947\ttraining's binary_logloss: 0.122831\tvalid_0's auc: 0.634704\tvalid_0's binary_logloss: 0.117423\n",
      "[110]\ttraining's auc: 0.669773\ttraining's binary_logloss: 0.121953\tvalid_0's auc: 0.634532\tvalid_0's binary_logloss: 0.116523\n",
      "[111]\ttraining's auc: 0.669894\ttraining's binary_logloss: 0.121104\tvalid_0's auc: 0.635066\tvalid_0's binary_logloss: 0.115643\n",
      "[112]\ttraining's auc: 0.67031\ttraining's binary_logloss: 0.120272\tvalid_0's auc: 0.636027\tvalid_0's binary_logloss: 0.114784\n",
      "[113]\ttraining's auc: 0.67072\ttraining's binary_logloss: 0.119459\tvalid_0's auc: 0.636678\tvalid_0's binary_logloss: 0.11395\n",
      "[114]\ttraining's auc: 0.671421\ttraining's binary_logloss: 0.118667\tvalid_0's auc: 0.637407\tvalid_0's binary_logloss: 0.113138\n",
      "[115]\ttraining's auc: 0.671798\ttraining's binary_logloss: 0.117896\tvalid_0's auc: 0.638238\tvalid_0's binary_logloss: 0.112347\n",
      "[116]\ttraining's auc: 0.672892\ttraining's binary_logloss: 0.117143\tvalid_0's auc: 0.638905\tvalid_0's binary_logloss: 0.111577\n",
      "[117]\ttraining's auc: 0.672947\ttraining's binary_logloss: 0.116415\tvalid_0's auc: 0.638977\tvalid_0's binary_logloss: 0.110825\n",
      "[118]\ttraining's auc: 0.673311\ttraining's binary_logloss: 0.115703\tvalid_0's auc: 0.639105\tvalid_0's binary_logloss: 0.110089\n",
      "[119]\ttraining's auc: 0.673659\ttraining's binary_logloss: 0.115007\tvalid_0's auc: 0.639215\tvalid_0's binary_logloss: 0.109372\n",
      "[120]\ttraining's auc: 0.674079\ttraining's binary_logloss: 0.114329\tvalid_0's auc: 0.63934\tvalid_0's binary_logloss: 0.108671\n",
      "[121]\ttraining's auc: 0.674595\ttraining's binary_logloss: 0.113666\tvalid_0's auc: 0.639875\tvalid_0's binary_logloss: 0.107987\n",
      "[122]\ttraining's auc: 0.674898\ttraining's binary_logloss: 0.113017\tvalid_0's auc: 0.640262\tvalid_0's binary_logloss: 0.107316\n",
      "[123]\ttraining's auc: 0.675132\ttraining's binary_logloss: 0.112387\tvalid_0's auc: 0.64053\tvalid_0's binary_logloss: 0.106661\n",
      "[124]\ttraining's auc: 0.675438\ttraining's binary_logloss: 0.111773\tvalid_0's auc: 0.640888\tvalid_0's binary_logloss: 0.106025\n",
      "[125]\ttraining's auc: 0.675758\ttraining's binary_logloss: 0.111173\tvalid_0's auc: 0.641102\tvalid_0's binary_logloss: 0.105404\n",
      "[126]\ttraining's auc: 0.676221\ttraining's binary_logloss: 0.110591\tvalid_0's auc: 0.641492\tvalid_0's binary_logloss: 0.104807\n",
      "[127]\ttraining's auc: 0.676524\ttraining's binary_logloss: 0.110022\tvalid_0's auc: 0.641786\tvalid_0's binary_logloss: 0.104222\n",
      "[128]\ttraining's auc: 0.677033\ttraining's binary_logloss: 0.109465\tvalid_0's auc: 0.642141\tvalid_0's binary_logloss: 0.103656\n",
      "[129]\ttraining's auc: 0.677468\ttraining's binary_logloss: 0.108924\tvalid_0's auc: 0.642445\tvalid_0's binary_logloss: 0.103098\n",
      "[130]\ttraining's auc: 0.678202\ttraining's binary_logloss: 0.108396\tvalid_0's auc: 0.64327\tvalid_0's binary_logloss: 0.102557\n",
      "[131]\ttraining's auc: 0.678399\ttraining's binary_logloss: 0.107884\tvalid_0's auc: 0.643543\tvalid_0's binary_logloss: 0.102029\n",
      "[132]\ttraining's auc: 0.67858\ttraining's binary_logloss: 0.107385\tvalid_0's auc: 0.643881\tvalid_0's binary_logloss: 0.101512\n",
      "[133]\ttraining's auc: 0.679612\ttraining's binary_logloss: 0.106896\tvalid_0's auc: 0.644515\tvalid_0's binary_logloss: 0.101008\n",
      "[134]\ttraining's auc: 0.679755\ttraining's binary_logloss: 0.106423\tvalid_0's auc: 0.644762\tvalid_0's binary_logloss: 0.10052\n",
      "[135]\ttraining's auc: 0.67986\ttraining's binary_logloss: 0.105962\tvalid_0's auc: 0.644779\tvalid_0's binary_logloss: 0.100043\n",
      "[136]\ttraining's auc: 0.680334\ttraining's binary_logloss: 0.105507\tvalid_0's auc: 0.644938\tvalid_0's binary_logloss: 0.0995752\n",
      "[137]\ttraining's auc: 0.680702\ttraining's binary_logloss: 0.105064\tvalid_0's auc: 0.645218\tvalid_0's binary_logloss: 0.0991164\n",
      "[138]\ttraining's auc: 0.681006\ttraining's binary_logloss: 0.104634\tvalid_0's auc: 0.645433\tvalid_0's binary_logloss: 0.0986708\n",
      "[139]\ttraining's auc: 0.681305\ttraining's binary_logloss: 0.104214\tvalid_0's auc: 0.645707\tvalid_0's binary_logloss: 0.0982339\n",
      "[140]\ttraining's auc: 0.68153\ttraining's binary_logloss: 0.103806\tvalid_0's auc: 0.645866\tvalid_0's binary_logloss: 0.0978108\n",
      "[141]\ttraining's auc: 0.682247\ttraining's binary_logloss: 0.103407\tvalid_0's auc: 0.646003\tvalid_0's binary_logloss: 0.0974006\n",
      "[142]\ttraining's auc: 0.682337\ttraining's binary_logloss: 0.103026\tvalid_0's auc: 0.645984\tvalid_0's binary_logloss: 0.0970047\n",
      "[143]\ttraining's auc: 0.683007\ttraining's binary_logloss: 0.102645\tvalid_0's auc: 0.646503\tvalid_0's binary_logloss: 0.0966154\n",
      "[144]\ttraining's auc: 0.683441\ttraining's binary_logloss: 0.102278\tvalid_0's auc: 0.646633\tvalid_0's binary_logloss: 0.0962386\n",
      "[145]\ttraining's auc: 0.683525\ttraining's binary_logloss: 0.101927\tvalid_0's auc: 0.646661\tvalid_0's binary_logloss: 0.0958716\n",
      "[146]\ttraining's auc: 0.683745\ttraining's binary_logloss: 0.101584\tvalid_0's auc: 0.646776\tvalid_0's binary_logloss: 0.0955173\n",
      "[147]\ttraining's auc: 0.683833\ttraining's binary_logloss: 0.101249\tvalid_0's auc: 0.646924\tvalid_0's binary_logloss: 0.0951631\n",
      "[148]\ttraining's auc: 0.684628\ttraining's binary_logloss: 0.100911\tvalid_0's auc: 0.647503\tvalid_0's binary_logloss: 0.0948127\n",
      "[149]\ttraining's auc: 0.684856\ttraining's binary_logloss: 0.100594\tvalid_0's auc: 0.647683\tvalid_0's binary_logloss: 0.0944835\n",
      "[150]\ttraining's auc: 0.685556\ttraining's binary_logloss: 0.100276\tvalid_0's auc: 0.648149\tvalid_0's binary_logloss: 0.0941506\n",
      "[151]\ttraining's auc: 0.686277\ttraining's binary_logloss: 0.0999656\tvalid_0's auc: 0.648257\tvalid_0's binary_logloss: 0.0938348\n",
      "[152]\ttraining's auc: 0.687117\ttraining's binary_logloss: 0.099664\tvalid_0's auc: 0.648333\tvalid_0's binary_logloss: 0.0935272\n",
      "[153]\ttraining's auc: 0.687803\ttraining's binary_logloss: 0.0993708\tvalid_0's auc: 0.648524\tvalid_0's binary_logloss: 0.0932276\n",
      "[154]\ttraining's auc: 0.687752\ttraining's binary_logloss: 0.0990959\tvalid_0's auc: 0.648522\tvalid_0's binary_logloss: 0.0929385\n",
      "[155]\ttraining's auc: 0.688514\ttraining's binary_logloss: 0.0988181\tvalid_0's auc: 0.648752\tvalid_0's binary_logloss: 0.0926552\n",
      "[156]\ttraining's auc: 0.689163\ttraining's binary_logloss: 0.0985476\tvalid_0's auc: 0.648846\tvalid_0's binary_logloss: 0.092382\n",
      "[157]\ttraining's auc: 0.689777\ttraining's binary_logloss: 0.0982832\tvalid_0's auc: 0.649184\tvalid_0's binary_logloss: 0.0921111\n",
      "[158]\ttraining's auc: 0.690201\ttraining's binary_logloss: 0.0980276\tvalid_0's auc: 0.649379\tvalid_0's binary_logloss: 0.0918492\n",
      "[159]\ttraining's auc: 0.690598\ttraining's binary_logloss: 0.0977783\tvalid_0's auc: 0.649658\tvalid_0's binary_logloss: 0.091596\n",
      "[160]\ttraining's auc: 0.691601\ttraining's binary_logloss: 0.0975315\tvalid_0's auc: 0.650126\tvalid_0's binary_logloss: 0.0913478\n",
      "[161]\ttraining's auc: 0.692234\ttraining's binary_logloss: 0.0972898\tvalid_0's auc: 0.650405\tvalid_0's binary_logloss: 0.0911039\n",
      "[162]\ttraining's auc: 0.692816\ttraining's binary_logloss: 0.0970542\tvalid_0's auc: 0.650668\tvalid_0's binary_logloss: 0.0908666\n",
      "[163]\ttraining's auc: 0.693452\ttraining's binary_logloss: 0.0968264\tvalid_0's auc: 0.650748\tvalid_0's binary_logloss: 0.0906383\n",
      "[164]\ttraining's auc: 0.694117\ttraining's binary_logloss: 0.0966008\tvalid_0's auc: 0.650972\tvalid_0's binary_logloss: 0.0904123\n",
      "[165]\ttraining's auc: 0.694166\ttraining's binary_logloss: 0.0963955\tvalid_0's auc: 0.651168\tvalid_0's binary_logloss: 0.0901965\n",
      "[166]\ttraining's auc: 0.695018\ttraining's binary_logloss: 0.096182\tvalid_0's auc: 0.651716\tvalid_0's binary_logloss: 0.089982\n",
      "[167]\ttraining's auc: 0.695634\ttraining's binary_logloss: 0.0959739\tvalid_0's auc: 0.651968\tvalid_0's binary_logloss: 0.0897733\n",
      "[168]\ttraining's auc: 0.695727\ttraining's binary_logloss: 0.095784\tvalid_0's auc: 0.652043\tvalid_0's binary_logloss: 0.0895732\n",
      "[169]\ttraining's auc: 0.696217\ttraining's binary_logloss: 0.0955901\tvalid_0's auc: 0.652276\tvalid_0's binary_logloss: 0.089376\n",
      "[170]\ttraining's auc: 0.696862\ttraining's binary_logloss: 0.0953972\tvalid_0's auc: 0.652309\tvalid_0's binary_logloss: 0.0891862\n",
      "[171]\ttraining's auc: 0.697228\ttraining's binary_logloss: 0.0952102\tvalid_0's auc: 0.652415\tvalid_0's binary_logloss: 0.0889996\n",
      "[172]\ttraining's auc: 0.697247\ttraining's binary_logloss: 0.0950381\tvalid_0's auc: 0.652426\tvalid_0's binary_logloss: 0.0888232\n",
      "[173]\ttraining's auc: 0.697806\ttraining's binary_logloss: 0.0948602\tvalid_0's auc: 0.652566\tvalid_0's binary_logloss: 0.0886488\n",
      "[174]\ttraining's auc: 0.698246\ttraining's binary_logloss: 0.0946862\tvalid_0's auc: 0.652705\tvalid_0's binary_logloss: 0.088476\n",
      "[175]\ttraining's auc: 0.698669\ttraining's binary_logloss: 0.0945157\tvalid_0's auc: 0.652911\tvalid_0's binary_logloss: 0.0883061\n",
      "[176]\ttraining's auc: 0.69869\ttraining's binary_logloss: 0.0943652\tvalid_0's auc: 0.653093\tvalid_0's binary_logloss: 0.0881477\n",
      "[177]\ttraining's auc: 0.699311\ttraining's binary_logloss: 0.0942079\tvalid_0's auc: 0.653273\tvalid_0's binary_logloss: 0.0879925\n",
      "[178]\ttraining's auc: 0.69969\ttraining's binary_logloss: 0.094056\tvalid_0's auc: 0.653286\tvalid_0's binary_logloss: 0.0878411\n",
      "[179]\ttraining's auc: 0.700036\ttraining's binary_logloss: 0.093909\tvalid_0's auc: 0.653397\tvalid_0's binary_logloss: 0.0876948\n",
      "[180]\ttraining's auc: 0.700573\ttraining's binary_logloss: 0.0937603\tvalid_0's auc: 0.65364\tvalid_0's binary_logloss: 0.0875518\n",
      "[181]\ttraining's auc: 0.701085\ttraining's binary_logloss: 0.0936163\tvalid_0's auc: 0.653831\tvalid_0's binary_logloss: 0.0874133\n",
      "[182]\ttraining's auc: 0.701556\ttraining's binary_logloss: 0.0934752\tvalid_0's auc: 0.653978\tvalid_0's binary_logloss: 0.0872745\n",
      "[183]\ttraining's auc: 0.702133\ttraining's binary_logloss: 0.0933373\tvalid_0's auc: 0.654146\tvalid_0's binary_logloss: 0.0871445\n",
      "[184]\ttraining's auc: 0.702341\ttraining's binary_logloss: 0.0932138\tvalid_0's auc: 0.654149\tvalid_0's binary_logloss: 0.087021\n",
      "[185]\ttraining's auc: 0.702882\ttraining's binary_logloss: 0.0930829\tvalid_0's auc: 0.654366\tvalid_0's binary_logloss: 0.0868958\n",
      "[186]\ttraining's auc: 0.703504\ttraining's binary_logloss: 0.0929535\tvalid_0's auc: 0.65447\tvalid_0's binary_logloss: 0.0867718\n",
      "[187]\ttraining's auc: 0.703924\ttraining's binary_logloss: 0.0928282\tvalid_0's auc: 0.654555\tvalid_0's binary_logloss: 0.086652\n",
      "[188]\ttraining's auc: 0.704665\ttraining's binary_logloss: 0.0927015\tvalid_0's auc: 0.654712\tvalid_0's binary_logloss: 0.0865329\n",
      "[189]\ttraining's auc: 0.705092\ttraining's binary_logloss: 0.0925823\tvalid_0's auc: 0.654817\tvalid_0's binary_logloss: 0.086421\n",
      "[190]\ttraining's auc: 0.705599\ttraining's binary_logloss: 0.0924636\tvalid_0's auc: 0.654874\tvalid_0's binary_logloss: 0.086312\n",
      "[191]\ttraining's auc: 0.706278\ttraining's binary_logloss: 0.0923474\tvalid_0's auc: 0.654905\tvalid_0's binary_logloss: 0.0862079\n",
      "[192]\ttraining's auc: 0.706626\ttraining's binary_logloss: 0.0922461\tvalid_0's auc: 0.655035\tvalid_0's binary_logloss: 0.0861081\n",
      "[193]\ttraining's auc: 0.707162\ttraining's binary_logloss: 0.0921369\tvalid_0's auc: 0.655043\tvalid_0's binary_logloss: 0.0860094\n",
      "[194]\ttraining's auc: 0.70754\ttraining's binary_logloss: 0.0920312\tvalid_0's auc: 0.65511\tvalid_0's binary_logloss: 0.0859108\n",
      "[195]\ttraining's auc: 0.708265\ttraining's binary_logloss: 0.0919232\tvalid_0's auc: 0.655286\tvalid_0's binary_logloss: 0.0858146\n",
      "[196]\ttraining's auc: 0.708481\ttraining's binary_logloss: 0.0918303\tvalid_0's auc: 0.655555\tvalid_0's binary_logloss: 0.0857181\n",
      "[197]\ttraining's auc: 0.709087\ttraining's binary_logloss: 0.0917264\tvalid_0's auc: 0.655722\tvalid_0's binary_logloss: 0.0856237\n",
      "[198]\ttraining's auc: 0.709875\ttraining's binary_logloss: 0.0916223\tvalid_0's auc: 0.655833\tvalid_0's binary_logloss: 0.0855343\n",
      "[199]\ttraining's auc: 0.710396\ttraining's binary_logloss: 0.0915232\tvalid_0's auc: 0.655903\tvalid_0's binary_logloss: 0.0854475\n",
      "[200]\ttraining's auc: 0.710921\ttraining's binary_logloss: 0.0914258\tvalid_0's auc: 0.656029\tvalid_0's binary_logloss: 0.0853611\n",
      "[201]\ttraining's auc: 0.711179\ttraining's binary_logloss: 0.0913455\tvalid_0's auc: 0.656058\tvalid_0's binary_logloss: 0.0852837\n",
      "[202]\ttraining's auc: 0.71139\ttraining's binary_logloss: 0.0912675\tvalid_0's auc: 0.656177\tvalid_0's binary_logloss: 0.0852067\n",
      "[203]\ttraining's auc: 0.712059\ttraining's binary_logloss: 0.0911755\tvalid_0's auc: 0.656162\tvalid_0's binary_logloss: 0.0851328\n",
      "[204]\ttraining's auc: 0.712656\ttraining's binary_logloss: 0.0910874\tvalid_0's auc: 0.656299\tvalid_0's binary_logloss: 0.0850574\n",
      "[205]\ttraining's auc: 0.713147\ttraining's binary_logloss: 0.0910023\tvalid_0's auc: 0.656187\tvalid_0's binary_logloss: 0.0849897\n",
      "[206]\ttraining's auc: 0.713612\ttraining's binary_logloss: 0.0909194\tvalid_0's auc: 0.656157\tvalid_0's binary_logloss: 0.0849185\n",
      "[207]\ttraining's auc: 0.714234\ttraining's binary_logloss: 0.0908365\tvalid_0's auc: 0.656133\tvalid_0's binary_logloss: 0.0848533\n",
      "[208]\ttraining's auc: 0.714325\ttraining's binary_logloss: 0.0907701\tvalid_0's auc: 0.65624\tvalid_0's binary_logloss: 0.084788\n",
      "[209]\ttraining's auc: 0.714745\ttraining's binary_logloss: 0.0906916\tvalid_0's auc: 0.656195\tvalid_0's binary_logloss: 0.0847239\n",
      "[210]\ttraining's auc: 0.715128\ttraining's binary_logloss: 0.090616\tvalid_0's auc: 0.65624\tvalid_0's binary_logloss: 0.0846583\n",
      "[211]\ttraining's auc: 0.715783\ttraining's binary_logloss: 0.090537\tvalid_0's auc: 0.656287\tvalid_0's binary_logloss: 0.0846007\n",
      "[212]\ttraining's auc: 0.716189\ttraining's binary_logloss: 0.090463\tvalid_0's auc: 0.656383\tvalid_0's binary_logloss: 0.0845419\n",
      "[213]\ttraining's auc: 0.716628\ttraining's binary_logloss: 0.0903899\tvalid_0's auc: 0.656477\tvalid_0's binary_logloss: 0.0844861\n",
      "[214]\ttraining's auc: 0.717118\ttraining's binary_logloss: 0.0903183\tvalid_0's auc: 0.656459\tvalid_0's binary_logloss: 0.0844341\n",
      "[215]\ttraining's auc: 0.717452\ttraining's binary_logloss: 0.0902522\tvalid_0's auc: 0.656551\tvalid_0's binary_logloss: 0.0843826\n",
      "[216]\ttraining's auc: 0.717776\ttraining's binary_logloss: 0.0901946\tvalid_0's auc: 0.656771\tvalid_0's binary_logloss: 0.084327\n",
      "[217]\ttraining's auc: 0.718029\ttraining's binary_logloss: 0.0901403\tvalid_0's auc: 0.656894\tvalid_0's binary_logloss: 0.0842757\n",
      "[218]\ttraining's auc: 0.718462\ttraining's binary_logloss: 0.0900764\tvalid_0's auc: 0.656891\tvalid_0's binary_logloss: 0.0842267\n",
      "[219]\ttraining's auc: 0.71891\ttraining's binary_logloss: 0.0900127\tvalid_0's auc: 0.65695\tvalid_0's binary_logloss: 0.0841779\n",
      "[220]\ttraining's auc: 0.719339\ttraining's binary_logloss: 0.0899512\tvalid_0's auc: 0.656928\tvalid_0's binary_logloss: 0.084133\n",
      "[221]\ttraining's auc: 0.720076\ttraining's binary_logloss: 0.0898838\tvalid_0's auc: 0.656984\tvalid_0's binary_logloss: 0.0840851\n",
      "[222]\ttraining's auc: 0.720887\ttraining's binary_logloss: 0.089816\tvalid_0's auc: 0.657128\tvalid_0's binary_logloss: 0.0840384\n",
      "[223]\ttraining's auc: 0.721581\ttraining's binary_logloss: 0.0897504\tvalid_0's auc: 0.657275\tvalid_0's binary_logloss: 0.0839936\n",
      "[224]\ttraining's auc: 0.7222\ttraining's binary_logloss: 0.0896892\tvalid_0's auc: 0.657365\tvalid_0's binary_logloss: 0.0839513\n",
      "[225]\ttraining's auc: 0.722526\ttraining's binary_logloss: 0.0896351\tvalid_0's auc: 0.657329\tvalid_0's binary_logloss: 0.0839131\n",
      "[226]\ttraining's auc: 0.722966\ttraining's binary_logloss: 0.0895785\tvalid_0's auc: 0.657475\tvalid_0's binary_logloss: 0.0838707\n",
      "[227]\ttraining's auc: 0.723207\ttraining's binary_logloss: 0.0895334\tvalid_0's auc: 0.657535\tvalid_0's binary_logloss: 0.0838335\n",
      "[228]\ttraining's auc: 0.723417\ttraining's binary_logloss: 0.089492\tvalid_0's auc: 0.657646\tvalid_0's binary_logloss: 0.083799\n",
      "[229]\ttraining's auc: 0.724147\ttraining's binary_logloss: 0.0894332\tvalid_0's auc: 0.65771\tvalid_0's binary_logloss: 0.0837637\n",
      "[230]\ttraining's auc: 0.72451\ttraining's binary_logloss: 0.0893824\tvalid_0's auc: 0.657627\tvalid_0's binary_logloss: 0.0837323\n",
      "[231]\ttraining's auc: 0.724896\ttraining's binary_logloss: 0.0893318\tvalid_0's auc: 0.657692\tvalid_0's binary_logloss: 0.0836983\n",
      "[232]\ttraining's auc: 0.725344\ttraining's binary_logloss: 0.0892794\tvalid_0's auc: 0.657789\tvalid_0's binary_logloss: 0.0836647\n",
      "[233]\ttraining's auc: 0.725812\ttraining's binary_logloss: 0.0892275\tvalid_0's auc: 0.657748\tvalid_0's binary_logloss: 0.0836326\n",
      "[234]\ttraining's auc: 0.726208\ttraining's binary_logloss: 0.0891777\tvalid_0's auc: 0.657866\tvalid_0's binary_logloss: 0.0835987\n",
      "[235]\ttraining's auc: 0.726673\ttraining's binary_logloss: 0.089127\tvalid_0's auc: 0.657909\tvalid_0's binary_logloss: 0.0835676\n",
      "[236]\ttraining's auc: 0.726909\ttraining's binary_logloss: 0.0890909\tvalid_0's auc: 0.658275\tvalid_0's binary_logloss: 0.0835337\n",
      "[237]\ttraining's auc: 0.7273\ttraining's binary_logloss: 0.0890438\tvalid_0's auc: 0.658287\tvalid_0's binary_logloss: 0.0835066\n",
      "[238]\ttraining's auc: 0.727677\ttraining's binary_logloss: 0.0889991\tvalid_0's auc: 0.658166\tvalid_0's binary_logloss: 0.0834824\n",
      "[239]\ttraining's auc: 0.728044\ttraining's binary_logloss: 0.0889543\tvalid_0's auc: 0.658156\tvalid_0's binary_logloss: 0.0834587\n",
      "[240]\ttraining's auc: 0.728385\ttraining's binary_logloss: 0.0889115\tvalid_0's auc: 0.658135\tvalid_0's binary_logloss: 0.0834353\n",
      "[241]\ttraining's auc: 0.72886\ttraining's binary_logloss: 0.0888662\tvalid_0's auc: 0.658105\tvalid_0's binary_logloss: 0.0834082\n",
      "[242]\ttraining's auc: 0.729241\ttraining's binary_logloss: 0.088822\tvalid_0's auc: 0.658161\tvalid_0's binary_logloss: 0.0833816\n",
      "[243]\ttraining's auc: 0.729744\ttraining's binary_logloss: 0.0887772\tvalid_0's auc: 0.658141\tvalid_0's binary_logloss: 0.0833574\n",
      "[244]\ttraining's auc: 0.730106\ttraining's binary_logloss: 0.0887358\tvalid_0's auc: 0.658194\tvalid_0's binary_logloss: 0.0833298\n",
      "[245]\ttraining's auc: 0.730603\ttraining's binary_logloss: 0.0886911\tvalid_0's auc: 0.658295\tvalid_0's binary_logloss: 0.0833041\n",
      "[246]\ttraining's auc: 0.73086\ttraining's binary_logloss: 0.0886546\tvalid_0's auc: 0.658235\tvalid_0's binary_logloss: 0.0832867\n",
      "[247]\ttraining's auc: 0.731255\ttraining's binary_logloss: 0.0886156\tvalid_0's auc: 0.658228\tvalid_0's binary_logloss: 0.0832681\n",
      "[248]\ttraining's auc: 0.731589\ttraining's binary_logloss: 0.0885777\tvalid_0's auc: 0.658338\tvalid_0's binary_logloss: 0.0832482\n",
      "[249]\ttraining's auc: 0.731845\ttraining's binary_logloss: 0.0885482\tvalid_0's auc: 0.658423\tvalid_0's binary_logloss: 0.0832284\n",
      "[250]\ttraining's auc: 0.732174\ttraining's binary_logloss: 0.0885115\tvalid_0's auc: 0.658446\tvalid_0's binary_logloss: 0.083212\n",
      "[251]\ttraining's auc: 0.73267\ttraining's binary_logloss: 0.0884696\tvalid_0's auc: 0.658489\tvalid_0's binary_logloss: 0.0831948\n",
      "[252]\ttraining's auc: 0.732995\ttraining's binary_logloss: 0.0884401\tvalid_0's auc: 0.658533\tvalid_0's binary_logloss: 0.0831768\n",
      "[253]\ttraining's auc: 0.733436\ttraining's binary_logloss: 0.0884013\tvalid_0's auc: 0.658559\tvalid_0's binary_logloss: 0.0831633\n",
      "[254]\ttraining's auc: 0.733727\ttraining's binary_logloss: 0.0883685\tvalid_0's auc: 0.658528\tvalid_0's binary_logloss: 0.0831493\n",
      "[255]\ttraining's auc: 0.73406\ttraining's binary_logloss: 0.0883331\tvalid_0's auc: 0.658497\tvalid_0's binary_logloss: 0.0831316\n",
      "[256]\ttraining's auc: 0.734427\ttraining's binary_logloss: 0.0882976\tvalid_0's auc: 0.658555\tvalid_0's binary_logloss: 0.0831165\n",
      "[257]\ttraining's auc: 0.734752\ttraining's binary_logloss: 0.0882632\tvalid_0's auc: 0.658485\tvalid_0's binary_logloss: 0.0831047\n",
      "[258]\ttraining's auc: 0.735133\ttraining's binary_logloss: 0.0882279\tvalid_0's auc: 0.658462\tvalid_0's binary_logloss: 0.0830916\n",
      "[259]\ttraining's auc: 0.73552\ttraining's binary_logloss: 0.0881945\tvalid_0's auc: 0.658471\tvalid_0's binary_logloss: 0.0830783\n",
      "[260]\ttraining's auc: 0.735922\ttraining's binary_logloss: 0.0881604\tvalid_0's auc: 0.658509\tvalid_0's binary_logloss: 0.0830653\n",
      "[261]\ttraining's auc: 0.736339\ttraining's binary_logloss: 0.0881241\tvalid_0's auc: 0.658411\tvalid_0's binary_logloss: 0.0830566\n",
      "[262]\ttraining's auc: 0.736795\ttraining's binary_logloss: 0.0880874\tvalid_0's auc: 0.658301\tvalid_0's binary_logloss: 0.0830484\n",
      "[263]\ttraining's auc: 0.737177\ttraining's binary_logloss: 0.0880554\tvalid_0's auc: 0.658265\tvalid_0's binary_logloss: 0.083036\n",
      "Early stopping, best iteration is:\n",
      "[253]\ttraining's auc: 0.733436\ttraining's binary_logloss: 0.0884013\tvalid_0's auc: 0.658559\tvalid_0's binary_logloss: 0.0831633\n"
     ]
    }
   ],
   "source": [
    "params = {\n",
    "    'task': 'train',\n",
    "    'boosting_type': 'gbdt',\n",
    "    'objective': 'binary',\n",
    "    'metric': {'binary', 'auc'}, \n",
    "    'num_leaves': 31,\n",
    "    'learning_rate': 0.02,\n",
    "    'feature_fraction': 0.9,\n",
    "    'bagging_fraction': 0.8,\n",
    "    'bagging_freq': 5,\n",
    "    'verbose': 0\n",
    "}\n",
    "gbm = lgb.train(params,\n",
    "                train_dst,\n",
    "                num_boost_round=500,\n",
    "                valid_sets=[val_dst, train_dst],\n",
    "                early_stopping_rounds=10)"
   ]
  },
  {
   "cell_type": "code",
   "execution_count": null,
   "metadata": {
    "collapsed": true
   },
   "outputs": [],
   "source": []
  }
 ],
 "metadata": {
  "kernelspec": {
   "display_name": "Python 3",
   "language": "python",
   "name": "python3"
  },
  "language_info": {
   "codemirror_mode": {
    "name": "ipython",
    "version": 3
   },
   "file_extension": ".py",
   "mimetype": "text/x-python",
   "name": "python",
   "nbconvert_exporter": "python",
   "pygments_lexer": "ipython3",
   "version": "3.6.2"
  }
 },
 "nbformat": 4,
 "nbformat_minor": 2
}
